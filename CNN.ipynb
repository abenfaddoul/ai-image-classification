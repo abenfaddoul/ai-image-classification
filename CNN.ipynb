{
  "nbformat": 4,
  "nbformat_minor": 0,
  "metadata": {
    "colab": {
      "provenance": [],
      "gpuType": "T4",
      "authorship_tag": "ABX9TyNddS3n0m8FDtMfkdj8qqUG",
      "include_colab_link": true
    },
    "kernelspec": {
      "name": "python3",
      "display_name": "Python 3"
    },
    "language_info": {
      "name": "python"
    },
    "accelerator": "GPU"
  },
  "cells": [
    {
      "cell_type": "markdown",
      "metadata": {
        "id": "view-in-github",
        "colab_type": "text"
      },
      "source": [
        "<a href=\"https://colab.research.google.com/github/bzotec/ai-image-classification/blob/main/CNN.ipynb\" target=\"_parent\"><img src=\"https://colab.research.google.com/assets/colab-badge.svg\" alt=\"Open In Colab\"/></a>"
      ]
    },
    {
      "cell_type": "code",
      "execution_count": 15,
      "metadata": {
        "id": "gJ_Y0Td3huj8"
      },
      "outputs": [],
      "source": [
        "#Convolutional Neural Network (Or CNN for short)\n",
        "#used to classify images (MNIST datasets)\n",
        "\n",
        "#import libraries\n",
        "import torch\n",
        "import torch.nn as nn\n",
        "import torch.nn.functional as F\n",
        "from torch.utils.data import DataLoader\n",
        "from torchvision import datasets, transforms\n",
        "from torchvision.utils import make_grid\n",
        "\n",
        "import numpy as np\n",
        "import pandas as pd\n",
        "from sklearn.metrics import confusion_matrix\n",
        "import matplotlib.pyplot as plt\n",
        "%matplotlib inline"
      ]
    },
    {
      "cell_type": "code",
      "source": [
        "#convert images to tensors\n",
        "transform = transforms.ToTensor()"
      ],
      "metadata": {
        "id": "_HiteB4civnO"
      },
      "execution_count": 16,
      "outputs": []
    },
    {
      "cell_type": "code",
      "source": [
        "train_data  = datasets.MNIST(root='/cnn_data', train=True, download=True, transform=transform)"
      ],
      "metadata": {
        "id": "DGHx-2qmk-ZB"
      },
      "execution_count": 17,
      "outputs": []
    },
    {
      "cell_type": "code",
      "source": [
        "#test data\n",
        "test_data  = datasets.MNIST(root='/cnn_data', train=False, download=True, transform=transform)"
      ],
      "metadata": {
        "id": "KHEob11JmLeT"
      },
      "execution_count": 18,
      "outputs": []
    },
    {
      "cell_type": "code",
      "source": [
        "#batch size for images\n",
        "train_loader= DataLoader(train_data, batch_size=10, shuffle=True)\n",
        "test_loader= DataLoader(test_data, batch_size=10, shuffle=False)"
      ],
      "metadata": {
        "id": "7p66zVsZo_YN"
      },
      "execution_count": 19,
      "outputs": []
    },
    {
      "cell_type": "code",
      "source": [
        "# describe Convolutional Layers\n",
        "conv1 = nn.Conv2d(1, 6, 3, 1)\n",
        "conv2 = nn.Conv2d(6, 16, 3, 1)\n",
        "\n",
        "# grab one MNIST record\n",
        "for i, (X_train, y_train) in enumerate(train_data):\n",
        "  break"
      ],
      "metadata": {
        "id": "r20QsiDpq1f0"
      },
      "execution_count": 20,
      "outputs": []
    },
    {
      "cell_type": "code",
      "source": [
        "x = X_train.view(1, 1, 28, 28)\n",
        "\n",
        "#perform 1st convolution\n",
        "x = F.relu(conv1(x)) #rectified linear unit for activation function"
      ],
      "metadata": {
        "id": "liWSsA5nsWNC"
      },
      "execution_count": 21,
      "outputs": []
    },
    {
      "cell_type": "code",
      "source": [
        "#pass thru pooling layer\n",
        "x = F.max_pool2d(x,2,2) # kernel of 2  stride of 2"
      ],
      "metadata": {
        "id": "VaVrJN-0vJfG"
      },
      "execution_count": 22,
      "outputs": []
    },
    {
      "cell_type": "code",
      "source": [
        "# 2nd conv layer\n",
        "x = F.relu(conv2(x))"
      ],
      "metadata": {
        "id": "DBvbU7L2v2r9"
      },
      "execution_count": 23,
      "outputs": []
    },
    {
      "cell_type": "code",
      "source": [
        "# pooling\n",
        "x= F.max_pool2d(x,2,2)"
      ],
      "metadata": {
        "id": "XylMLxUdwE9d"
      },
      "execution_count": 24,
      "outputs": []
    },
    {
      "cell_type": "code",
      "source": [
        "# define Model\n",
        "\n",
        "class ConvModel(nn.Module):\n",
        "\n",
        "  def __init__(self):\n",
        "    super().__init__()\n",
        "    self.conv1 = nn.Conv2d(1,6,3,1)\n",
        "    self.conv2 = nn.Conv2d(6,16,3,1)\n",
        "    #fully connected\n",
        "    self.fc1 = nn.Linear(5*5*16, 120)\n",
        "    self.fc2 = nn.Linear(120, 84)\n",
        "    self.fc3 = nn.Linear(84, 10)\n",
        "\n",
        "  def forward(self, x):\n",
        "    x = F.relu(self.conv1(x))\n",
        "    x = F.max_pool2d(x,2,2)\n",
        "    x = F.relu(self.conv2(x))\n",
        "    x = F.max_pool2d(x,2,2)\n",
        "\n",
        "    #Re-View to flatten it out\n",
        "    x = x.view(-1, 16*5*5)\n",
        "\n",
        "    #full connected layers\n",
        "    x = F.relu(self.fc1(x))\n",
        "    x = F.relu(self.fc2(x))\n",
        "    x = self.fc3(x)\n",
        "    return F.log_softmax(x, dim=1)\n"
      ],
      "metadata": {
        "id": "HrOLNHdfwuo3"
      },
      "execution_count": 25,
      "outputs": []
    },
    {
      "cell_type": "code",
      "source": [
        "#create instance\n",
        "torch.manual_seed(41)\n",
        "model = ConvModel()\n",
        "model"
      ],
      "metadata": {
        "colab": {
          "base_uri": "https://localhost:8080/"
        },
        "id": "NF8aeco8zzQo",
        "outputId": "6a2b97d4-7da4-4b67-8be0-4ad6dc6e5525"
      },
      "execution_count": 26,
      "outputs": [
        {
          "output_type": "execute_result",
          "data": {
            "text/plain": [
              "ConvModel(\n",
              "  (conv1): Conv2d(1, 6, kernel_size=(3, 3), stride=(1, 1))\n",
              "  (conv2): Conv2d(6, 16, kernel_size=(3, 3), stride=(1, 1))\n",
              "  (fc1): Linear(in_features=400, out_features=120, bias=True)\n",
              "  (fc2): Linear(in_features=120, out_features=84, bias=True)\n",
              "  (fc3): Linear(in_features=84, out_features=10, bias=True)\n",
              ")"
            ]
          },
          "metadata": {},
          "execution_count": 26
        }
      ]
    },
    {
      "cell_type": "code",
      "source": [
        "#Loss function Optimizer\n",
        "criterion = nn.CrossEntropyLoss()\n",
        "optimizer = torch.optim.Adam(model.parameters(), lr=0.001)"
      ],
      "metadata": {
        "id": "aTlxWcae0hH8"
      },
      "execution_count": 27,
      "outputs": []
    },
    {
      "cell_type": "code",
      "source": [
        "#tracking variables\n",
        "epochs = 5\n",
        "train_losses = []\n",
        "test_losses = []\n",
        "train_correct = []\n",
        "test_correct = []\n",
        "\n",
        "#Epochs loop\n",
        "for i in range(epochs):\n",
        "  trn_corr = 0\n",
        "  tst_corr = 0\n",
        "\n",
        "  #Train Model\n",
        "  for b, (X_train, y_train) in enumerate(train_loader):\n",
        "    b+=1 #start batches at 1\n",
        "    y_pred = model(X_train) #values from training set not falttend\n",
        "    loss = criterion(y_pred, y_train)\n",
        "\n",
        "    predicted = torch.max(y_pred.data, 1)[1]\n",
        "    batch_corr = (predicted == y_train).sum()\n",
        "    trn_corr += batch_corr\n",
        "\n",
        "    #update our parameters\n",
        "    optimizer.zero_grad()\n",
        "    loss.backward()\n",
        "    optimizer.step()\n",
        "\n",
        "    #results\n",
        "    if b%600 == 0:\n",
        "      print(f'Epoch: {i} Batch: {b} Loss: {loss.item()}')\n",
        "  train_losses.append(loss)\n",
        "  train_correct.append(trn_corr)\n",
        "\n",
        "  #test\n",
        "  with torch.no_grad():\n",
        "    tst_corr=0\n",
        "    for b, (X_test, y_test) in enumerate(test_loader):\n",
        "      y_val = model(X_test)\n",
        "      predicted = torch.max(y_val.data, 1)[1]\n",
        "      tst_corr += (predicted == y_test).sum()\n",
        "\n",
        "  loss = criterion(y_val, y_test)\n",
        "  test_losses.append(loss)\n",
        "  test_correct.append(tst_corr)\n"
      ],
      "metadata": {
        "colab": {
          "base_uri": "https://localhost:8080/"
        },
        "id": "PFWyd3Ci1eAC",
        "outputId": "c079c5d3-c84b-4ef8-9707-54224f0f9ae1"
      },
      "execution_count": 31,
      "outputs": [
        {
          "output_type": "stream",
          "name": "stdout",
          "text": [
            "Epoch: 0 Batch: 600 Loss: 0.0006397187244147062\n",
            "Epoch: 0 Batch: 1200 Loss: 0.0002532705257181078\n",
            "Epoch: 0 Batch: 1800 Loss: 4.131171590415761e-05\n",
            "Epoch: 0 Batch: 2400 Loss: 0.4991063177585602\n",
            "Epoch: 0 Batch: 3000 Loss: 0.00023353725555352867\n",
            "Epoch: 0 Batch: 3600 Loss: 0.00010691117495298386\n",
            "Epoch: 0 Batch: 4200 Loss: 0.0002709253749344498\n",
            "Epoch: 0 Batch: 4800 Loss: 3.4163873351644725e-05\n",
            "Epoch: 0 Batch: 5400 Loss: 0.03671538829803467\n",
            "Epoch: 0 Batch: 6000 Loss: 0.00014414403995033354\n",
            "Epoch: 1 Batch: 600 Loss: 0.0004134110058657825\n",
            "Epoch: 1 Batch: 1200 Loss: 4.729805368697271e-05\n",
            "Epoch: 1 Batch: 1800 Loss: 6.487728387583047e-05\n",
            "Epoch: 1 Batch: 2400 Loss: 2.858420521079097e-05\n",
            "Epoch: 1 Batch: 3000 Loss: 1.6854955902090296e-05\n",
            "Epoch: 1 Batch: 3600 Loss: 0.009654774330556393\n",
            "Epoch: 1 Batch: 4200 Loss: 0.002364841755479574\n",
            "Epoch: 1 Batch: 4800 Loss: 0.0014983752043917775\n",
            "Epoch: 1 Batch: 5400 Loss: 0.2921779155731201\n",
            "Epoch: 1 Batch: 6000 Loss: 0.8747977018356323\n",
            "Epoch: 2 Batch: 600 Loss: 0.0001385758223477751\n",
            "Epoch: 2 Batch: 1200 Loss: 1.726004484225996e-05\n",
            "Epoch: 2 Batch: 1800 Loss: 0.002744366880506277\n",
            "Epoch: 2 Batch: 2400 Loss: 0.0003512901021167636\n",
            "Epoch: 2 Batch: 3000 Loss: 0.0023994487710297108\n",
            "Epoch: 2 Batch: 3600 Loss: 0.00014309698599390686\n",
            "Epoch: 2 Batch: 4200 Loss: 0.00016297586262226105\n",
            "Epoch: 2 Batch: 4800 Loss: 1.628349127713591e-05\n",
            "Epoch: 2 Batch: 5400 Loss: 0.0005965355085209012\n",
            "Epoch: 2 Batch: 6000 Loss: 0.00013967780978418887\n",
            "Epoch: 3 Batch: 600 Loss: 2.4925207981141284e-05\n",
            "Epoch: 3 Batch: 1200 Loss: 0.003951476886868477\n",
            "Epoch: 3 Batch: 1800 Loss: 0.00040256307693198323\n",
            "Epoch: 3 Batch: 2400 Loss: 0.0006093966658227146\n",
            "Epoch: 3 Batch: 3000 Loss: 0.0001272130903089419\n",
            "Epoch: 3 Batch: 3600 Loss: 0.00012305937707424164\n",
            "Epoch: 3 Batch: 4200 Loss: 0.0027824717108160257\n",
            "Epoch: 3 Batch: 4800 Loss: 2.3841835172788706e-07\n",
            "Epoch: 3 Batch: 5400 Loss: 0.06403252482414246\n",
            "Epoch: 3 Batch: 6000 Loss: 0.002031611744314432\n",
            "Epoch: 4 Batch: 600 Loss: 0.008668038062751293\n",
            "Epoch: 4 Batch: 1200 Loss: 1.549709850223735e-06\n",
            "Epoch: 4 Batch: 1800 Loss: 0.00028853333787992597\n",
            "Epoch: 4 Batch: 2400 Loss: 0.0035812542773783207\n",
            "Epoch: 4 Batch: 3000 Loss: 7.152555525635762e-08\n",
            "Epoch: 4 Batch: 3600 Loss: 0.00018199378973804414\n",
            "Epoch: 4 Batch: 4200 Loss: 0.028424959629774094\n",
            "Epoch: 4 Batch: 4800 Loss: 0.009531216695904732\n",
            "Epoch: 4 Batch: 5400 Loss: 1.6689291726379452e-07\n",
            "Epoch: 4 Batch: 6000 Loss: 0.001865160302259028\n"
          ]
        }
      ]
    },
    {
      "cell_type": "code",
      "source": [
        "#graph\n",
        "with torch.no_grad():\n",
        "  plt.title(\"loss at epoch\")\n",
        "  plt.plot(train_losses,  label=\"Train Loss\")\n",
        "  plt.plot(test_losses,  label=\"Validation Loss\")\n",
        "  plt.legend()"
      ],
      "metadata": {
        "colab": {
          "base_uri": "https://localhost:8080/",
          "height": 452
        },
        "id": "o_6bQiyF_Plf",
        "outputId": "7ee099a6-7251-4204-ab2f-97f0afc944a8"
      },
      "execution_count": 37,
      "outputs": [
        {
          "output_type": "display_data",
          "data": {
            "text/plain": [
              "<Figure size 640x480 with 1 Axes>"
            ],
            "image/png": "[encoded data removed]"
          },
          "metadata": {}
        }
      ]
    },
    {
      "cell_type": "code",
      "source": [
        "#grab one image\n",
        "model.eval()\n",
        "with torch.no_grad():\n",
        "  n_pred = model(test_data[2024][0].view(1,1,28,28))"
      ],
      "metadata": {
        "id": "zh7MZnLFB_a1"
      },
      "execution_count": 41,
      "outputs": []
    },
    {
      "cell_type": "code",
      "source": [
        "n_pred.argmax()"
      ],
      "metadata": {
        "colab": {
          "base_uri": "https://localhost:8080/"
        },
        "id": "BL9RGIBZCnPy",
        "outputId": "08677c40-2754-4777-8a5a-5fa130d1e784"
      },
      "execution_count": 36,
      "outputs": [
        {
          "output_type": "execute_result",
          "data": {
            "text/plain": [
              "tensor(7)"
            ]
          },
          "metadata": {},
          "execution_count": 36
        }
      ]
    }
  ]
}